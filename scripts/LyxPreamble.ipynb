{
 "metadata": {
  "name": "",
  "signature": "sha256:a430e8314f505f3e87382ba25e3d4965543c77b8f2e55003520ba25f735f4a7c"
 },
 "nbformat": 3,
 "nbformat_minor": 0,
 "worksheets": [
  {
   "cells": [
    {
     "cell_type": "code",
     "collapsed": false,
     "input": [
      "def header_index(lines):\n",
      "    start = None\n",
      "    end = None\n",
      "    for i,l in enumerate(lines):\n",
      "        if l.strip() == \"\\\\begin_header\":\n",
      "            start = i\n",
      "        if l.strip() == \"\\\\end_header\":\n",
      "            end = i\n",
      "        if start is not None and end is not None:\n",
      "            break\n",
      "    \n",
      "    return start,end\n",
      "\n",
      "def paste_header(src,dest):\n",
      "    if type(dest) is str:\n",
      "        dest = [dest]\n",
      "        \n",
      "    with open(src,\"r\") as f:\n",
      "        lines = f.readlines()\n",
      "    \n",
      "    start,end = header_index(lines)\n",
      "    \n",
      "    header = lines[start:end+1]\n",
      "    \n",
      "    for d in dest:\n",
      "        with open(d,\"r\") as f:\n",
      "            dest_lines = f.readlines()\n",
      "        \n",
      "        dest_start,dest_end = header_index(dest_lines)\n",
      "        new_dest_lines = dest_lines[:dest_start]+header+dest_lines[dest_end+1:]\n",
      "        \n",
      "        with open(d,\"w\") as f:\n",
      "            f.writelines(new_dest_lines)\n",
      "    \n",
      "    "
     ],
     "language": "python",
     "metadata": {},
     "outputs": [],
     "prompt_number": 3
    },
    {
     "cell_type": "code",
     "collapsed": false,
     "input": [
      "import glob\n",
      "lyxfiles = \"/home/zam/p.glock/Documents/InternshipReportLyx/*.lyx\"\n",
      "childs = set(glob.glob(lyxfiles))\n",
      "master = \"/home/zam/p.glock/Documents/InternshipReportLyx/InternshipReport.lyx\"\n",
      "childs = childs - {master}\n",
      "paste_header(master,childs)"
     ],
     "language": "python",
     "metadata": {},
     "outputs": [],
     "prompt_number": 4
    },
    {
     "cell_type": "code",
     "collapsed": false,
     "input": [],
     "language": "python",
     "metadata": {},
     "outputs": []
    }
   ],
   "metadata": {}
  }
 ]
}