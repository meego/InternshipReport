{
 "metadata": {
  "name": "",
  "signature": "sha256:1b7a579ac6b06e8d5b5d99fefd2bc7e20d7ee09cdb1f1cb77ae7a22025c9c689"
 },
 "nbformat": 3,
 "nbformat_minor": 0,
 "worksheets": [
  {
   "cells": [
    {
     "cell_type": "heading",
     "level": 1,
     "metadata": {},
     "source": [
      "From Preprocessing to Evaluation"
     ]
    },
    {
     "cell_type": "markdown",
     "metadata": {},
     "source": [
      "This notebook shows the different steps that are needed to classify the brain cross sections. It starts with the data preprocessing and ends with a final model. Several different functions are used by the imported custom modules. This is done, so that the notebook stays clear. If you want to take a detailed look at the used functions, feel free to use the different source files.\n",
      "\n",
      "At the beginning the client is set up, so that the engines can be accessed and used."
     ]
    },
    {
     "cell_type": "code",
     "collapsed": false,
     "input": [
      "# Import the client and the imp module to load source files on all engines\n",
      "from IPython.parallel import Client\n",
      "c = Client()\n",
      "dview = c[:]\n",
      "dview.block = True\n",
      "with dview.sync_imports():\n",
      "    import imp"
     ],
     "language": "python",
     "metadata": {},
     "outputs": [
      {
       "output_type": "stream",
       "stream": "stdout",
       "text": [
        "importing imp on engine(s)\n"
       ]
      }
     ],
     "prompt_number": 1
    },
    {
     "cell_type": "heading",
     "level": 4,
     "metadata": {},
     "source": [
      "Generating samples"
     ]
    },
    {
     "cell_type": "markdown",
     "metadata": {},
     "source": [
      "The training data can be sampled. In this example this is done by rescaling some images to a size of 256x256."
     ]
    },
    {
     "cell_type": "code",
     "collapsed": false,
     "input": [
      "# resizing the images\n",
      "import glob\n",
      "masks = glob.glob(\"../classification/data/rescaled256x256/masks/MSA*.tif\")\n",
      "images = glob.glob(\"../classification/data/rescaled256x256/images/MSA*.tif\")\n",
      "\n",
      "from PIL import Image\n",
      "\n",
      "size=(256,256)\n",
      "resized_images = [Image.open(i).resize(size) for i in images]\n",
      "resized_masks = [Image.open(m).resize(size) for m in images]"
     ],
     "language": "python",
     "metadata": {},
     "outputs": [],
     "prompt_number": 2
    },
    {
     "cell_type": "heading",
     "level": 4,
     "metadata": {},
     "source": [
      "Converting and Adding Features "
     ]
    },
    {
     "cell_type": "markdown",
     "metadata": {},
     "source": [
      "The following code block shows how to generate libsvm formated data from an original image and the hand labeled mask. This is done on multiple engines started by ipython. \n",
      "In this example the used features are: \n",
      "\n",
      "    R,G,B,std(R),std(G),std(B),segmentation_bit,H,S,V\n",
      "\n",
      "The window size for the image is 16x16 pixel. The thresholds for watershed segmentation are set as p=0.2 and q=0.8.\n",
      "Custom features can be added easily. A feature that needs the original image needs to be set in the new_features list. If only the pixel is needed, the online_feature list is sufficient. \n",
      "\n",
      "Because callables are passed, the user can add any new function. The only condition is that the first argument is the image/pixel. If the function has more arguments, the *partial* function can be used to create a new one with only one argument. "
     ]
    },
    {
     "cell_type": "code",
     "collapsed": false,
     "input": [
      "# load data conversion and feature extration modules locally and on the engines\n",
      "dc = imp.load_source(\"data_conversion\",\\\n",
      "                     \"../parallel/data_generation/data_conversion.py\")\n",
      "fe = imp.load_source(\"feature_extraction\",\\\n",
      "                     \"../classification/feature_extraction.py\")\n",
      "# use the direct view to load the modules\n",
      "dview.execute('dc = imp.load_source(\"data_conversion\",\\\n",
      "    \"../parallel/data_generation/data_conversion.py\")')\n",
      "dview.execute('fe = imp.load_source(\"feature_extraction\",\\\n",
      "    \"../classification/feature_extraction.py\")')\n",
      "\n",
      "# set masks and images, that are to be converted, as lists\n",
      "# be aware that masks[0] must belong to images[0]. This is done by sorting the lists\n",
      "import glob\n",
      "masks = sorted(glob.glob(\"../classification/data/rescaled256x256/masks/MSA*.tif\"))\n",
      "images = sorted(glob.glob(\"../classification/data/rescaled256x256/images/MSA*.tif\"))\n",
      "\n",
      "# scatter the images and mask to the engines\n",
      "dview.scatter(\"images\",images)\n",
      "dview.scatter(\"masks\",masks)\n",
      "\n",
      "with dview.sync_imports():\n",
      "    from functools import partial\n",
      "\n",
      "# add features and convert the images\n",
      "out_dir = \"../classification/data/rescaled256x256/test\"\n",
      "dview['out_dir'] = out_dir\n",
      "cmd = 'dc.convert_and_save(images,masks,out_dir,\\\n",
      "    new_features=[partial(fe.calc_std,size=16),\\\n",
      "    partial(fe.findSegmentation,p=0.2)],online_features=[fe.add_hsv])'\n",
      "dview.execute(cmd)"
     ],
     "language": "python",
     "metadata": {},
     "outputs": [
      {
       "output_type": "stream",
       "stream": "stdout",
       "text": [
        "importing partial from functools on engine(s)\n"
       ]
      },
      {
       "metadata": {},
       "output_type": "pyout",
       "prompt_number": 3,
       "text": [
        "<AsyncResult: finished>"
       ]
      }
     ],
     "prompt_number": 3
    },
    {
     "cell_type": "heading",
     "level": 4,
     "metadata": {},
     "source": [
      "Create training and testing sets"
     ]
    },
    {
     "cell_type": "markdown",
     "metadata": {},
     "source": [
      "The data can be combined into training and testing sets. The data is shuffled and the sets are class balanced by default. The *combine_files* method can be used to generate training sets for the different layers, if multiple models are used. "
     ]
    },
    {
     "cell_type": "code",
     "collapsed": false,
     "input": [
      "sampling = imp.load_source(\"sample_files\",\"../data_generation/random_sampling/sample_files.py\")\n",
      "sampling.OUT = \"../classification/data/rescaled256x256/test\"\n",
      "\n",
      "sampling.combine_files(\"../classification/data/rescaled256x256/test/\",\"ALL.svm\")\n",
      "sampling.split_train_test(\"../classification/data/rescaled256x256/test/\",\\\n",
      "                          \"ALL.svm\",test_size=0.5,shuffle=True)"
     ],
     "language": "python",
     "metadata": {},
     "outputs": [],
     "prompt_number": 4
    },
    {
     "cell_type": "heading",
     "level": 4,
     "metadata": {},
     "source": [
      "Build a SVM classifier"
     ]
    },
    {
     "cell_type": "markdown",
     "metadata": {},
     "source": [
      "To build a classifier, first the training and test data have to be loaded. In this case it is a single cross section, but any combination of the different images can be used. This can be done with *sample.combine_files*.\n",
      "\n",
      "The data is normalized and additional features are added. Instead of the RBFSampler the Nystroem method can be used to generate different features or approximate another kernel.\n",
      "\n",
      "At the end the classifier is trained with parameters optimized with a grid search. Instead of building one classifier, grid search may be used to test different parameters on the current data set.\n",
      "After this the model can easily be saved with the pickle module which is part of the python standard library. It can also be used to save the RBFSampler which is needed if new data should be predicted."
     ]
    },
    {
     "cell_type": "code",
     "collapsed": false,
     "input": [
      "from skimage.io import imshow,imread\n",
      "import numpy as np\n",
      "from sklearn.kernel_approximation import RBFSampler\n",
      "from sklearn.svm import LinearSVC\n",
      "from sklearn.datasets import load_svmlight_file\n",
      "\n",
      "# load training set\n",
      "X_train,y_train = load_svmlight_file(\\\n",
      "                \"../classification/data/rescaled256x256/MSA_03-2009_dXXXX-XX-XX_s0110.svm\")\n",
      "X_train = X_train.toarray()\n",
      "\n",
      "# normalize data\n",
      "max_val = X_train.max(axis=0)\n",
      "min_val = X_train.min(axis=0)\n",
      "X_train = (X_train-min_val)/(max_val-min_val)\n",
      "\n",
      "# load test image\n",
      "X_test,y_test = load_svmlight_file(\\\n",
      "                \"../classification/data/segmentation/MSA_03-2009_dXXXX-XX-XX_s0200.svm\")\n",
      "X_test = X_test.toarray()\n",
      "X_test = (X_test-min_val)/(max_val-min_val)\n",
      "\n",
      "# generate additional features\n",
      "rbf = RBFSampler(gamma=2)\n",
      "X_features = rbf.fit_transform(X_train)\n",
      "X_test_features = rbf.transform(X_test)\n",
      "\n",
      "# train linear SVM on highdimensional data\n",
      "linearSVM = LinearSVC(dual=False,C=1000000)\n",
      "linearSVM.fit(X_features,y_train)\n",
      "\n",
      "# save model \n",
      "import pickle\n",
      "with open(\"SVMClassifier.pkl\",\"w\") as f:\n",
      "    pickle.dump(linearSVM,f)"
     ],
     "language": "python",
     "metadata": {},
     "outputs": [],
     "prompt_number": 5
    },
    {
     "cell_type": "heading",
     "level": 4,
     "metadata": {},
     "source": [
      "Classify test image"
     ]
    },
    {
     "cell_type": "markdown",
     "metadata": {},
     "source": [
      "If the classifier is not trained in the current session, it can be loaded with the pickle module. After adding the random features the class can be predicted usign the *predict* method of the classifier. The predicted labels can be reshaped, so that the new mask can be printed."
     ]
    },
    {
     "cell_type": "code",
     "collapsed": false,
     "input": [
      "# load model\n",
      "import pickle\n",
      "with open(\"SVMClassifier.pkl\",\"r\") as f:\n",
      "    linearSVM = pickle.load(f)\n",
      "    \n",
      "# load hand labeled mask\n",
      "mask = imread(\"../classification/data/segmentation/masks/MSA_03-2009_dXXXX-XX-XX_s0200.tif\")\n",
      "\n",
      "labels = linearSVM.predict(X_test_features)\n",
      "labels = labels.reshape(mask.shape)\n",
      "\n",
      "%matplotlib inline\n",
      "imshow(labels)"
     ],
     "language": "python",
     "metadata": {},
     "outputs": [
      {
       "metadata": {},
       "output_type": "display_data",
       "png": "[encoded data removed]",
       "text": [
        "<matplotlib.figure.Figure at 0x7fad72ddc310>"
       ]
      }
     ],
     "prompt_number": 6
    },
    {
     "cell_type": "markdown",
     "metadata": {},
     "source": [
      "If the data is also labeled by hand, the quality of the model can be measured. The following function calculates the accuracy as well as the f-score. It also returns the confusion matrix. \n",
      "\n",
      "Because the classified data is an image, the confusion matrix is visualized as an image. All true positives are colored white and all true negatives black. With 100% accuracy this would result in the hand labeled mask. \n",
      "Since this is most often not the case, all false positives are marked red and all false negatives blue. \n",
      "\n",
      "This gives a good first impression on the quality of the classifier. If the predicted labels are post processed by hand, it furthermore gives an indication which regions cause problems. "
     ]
    },
    {
     "cell_type": "code",
     "collapsed": false,
     "input": [
      "from sklearn.metrics import confusion_matrix,f1_score,accuracy_score\n",
      "from collections import namedtuple\n",
      "\n",
      "AccuracyMetrics = namedtuple('AccuracyMetrics',\\\n",
      "                             ['accuracy','fscore','confusion_matrix','image'])\n",
      "\n",
      "def compare_to_mask(pred,mask):\n",
      "    size = pred.shape\n",
      "    img = np.zeros((mask.shape[0],mask.shape[1],3),dtype='uint8')\n",
      "    tp = np.dstack(((pred>0).reshape(size),(mask>0).reshape(size)))\n",
      "    fp = np.dstack(((pred>0).reshape(size),(mask==0).reshape(size)))\n",
      "    fn = np.dstack(((pred==0).reshape(size),(mask>0).reshape(size)))\n",
      "    img[np.all(tp,axis=2),:] = 255\n",
      "    img[np.all(fp,axis=2),0] = 255\n",
      "    img[np.all(fn,axis=2),2] = 255\n",
      "    \n",
      "    acc = accuracy_score(mask.flatten(),pred.flatten(),normalize=True)\n",
      "    fscore = f1_score(mask.flatten(),pred.flatten())\n",
      "    cm = confusion_matrix(mask.flatten(),pred.flatten())\n",
      "    \n",
      "    return AccuracyMetrics(acc,fscore,cm,img)\n",
      "\n",
      "metrics = compare_to_mask(labels,y_test.reshape(labels.shape))\n",
      "imshow(metrics[3])"
     ],
     "language": "python",
     "metadata": {},
     "outputs": [
      {
       "metadata": {},
       "output_type": "display_data",
       "png": "[encoded data removed]",
       "text": [
        "<matplotlib.figure.Figure at 0x7fad6aa90710>"
       ]
      }
     ],
     "prompt_number": 7
    }
   ],
   "metadata": {}
  }
 ]
}