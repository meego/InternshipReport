{
 "metadata": {
  "name": "",
  "signature": "sha256:bc63090f87b58157b55ec96163dc953f5a280726c26efe37e830b60ec2dc7498"
 },
 "nbformat": 3,
 "nbformat_minor": 0,
 "worksheets": [
  {
   "cells": [
    {
     "cell_type": "code",
     "collapsed": false,
     "input": [
      "import matplotlib.pyplot as plt\n",
      "import numpy\n",
      "%matplotlib inline"
     ],
     "language": "python",
     "metadata": {},
     "outputs": [],
     "prompt_number": 1
    },
    {
     "cell_type": "code",
     "collapsed": false,
     "input": [
      "cl1 = numpy.random.multivariate_normal([1,1],[[0.1,0],[0,0.1]],10)\n",
      "cl2 = numpy.random.multivariate_normal([3,3],[[0.1,0],[0,0.1]],10)\n",
      "fig,ax = plt.subplots()\n",
      "ax.set_xlim(0,5)\n",
      "ax.set_ylim(0,5)\n",
      "ax.plot(cl1[:,0],cl1[:,1],\".\")\n",
      "ax.plot(cl2[:,0],cl2[:,1],\"o\")"
     ],
     "language": "python",
     "metadata": {},
     "outputs": [
      {
       "metadata": {},
       "output_type": "pyout",
       "prompt_number": 16,
       "text": [
        "[<matplotlib.lines.Line2D at 0x7f34667ab650>]"
       ]
      },
      {
       "metadata": {},
       "output_type": "display_data",
       "png": "[encoded data removed]",
       "text": [
        "<matplotlib.figure.Figure at 0x7f34667ab550>"
       ]
      }
     ],
     "prompt_number": 16
    },
    {
     "cell_type": "code",
     "collapsed": false,
     "input": [],
     "language": "python",
     "metadata": {},
     "outputs": [
      {
       "metadata": {},
       "output_type": "pyout",
       "prompt_number": 7,
       "text": [
        "array([[ 1.29024545,  1.        ],\n",
        "       [-0.20949354,  1.        ],\n",
        "       [ 1.97346497,  1.        ],\n",
        "       [ 0.44210983,  1.        ],\n",
        "       [ 1.64376329,  1.        ]])"
       ]
      }
     ],
     "prompt_number": 7
    },
    {
     "cell_type": "code",
     "collapsed": false,
     "input": [],
     "language": "python",
     "metadata": {},
     "outputs": []
    }
   ],
   "metadata": {}
  }
 ]
}