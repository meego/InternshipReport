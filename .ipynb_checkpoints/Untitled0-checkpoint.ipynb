{
 "metadata": {
  "name": "",
  "signature": "sha256:4b55ab456e7c4173f81a2d4661e510ad8bc9eac235af17965da9508377280761"
 },
 "nbformat": 3,
 "nbformat_minor": 0,
 "worksheets": []
}